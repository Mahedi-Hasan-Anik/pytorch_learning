{
  "nbformat": 4,
  "nbformat_minor": 0,
  "metadata": {
    "colab": {
      "provenance": [],
      "mount_file_id": "1QOQsdIoHPXY0UikzhsoLXjeANSdMCWty",
      "authorship_tag": "ABX9TyNL5nJuLMXTMOp15LMWJ38j",
      "include_colab_link": true
    },
    "kernelspec": {
      "name": "python3",
      "display_name": "Python 3"
    },
    "language_info": {
      "name": "python"
    }
  },
  "cells": [
    {
      "cell_type": "markdown",
      "metadata": {
        "id": "view-in-github",
        "colab_type": "text"
      },
      "source": [
        "<a href=\"https://colab.research.google.com/github/Mahedi-Hasan-Anik/pytorch_learning/blob/main/EEG1.ipynb\" target=\"_parent\"><img src=\"https://colab.research.google.com/assets/colab-badge.svg\" alt=\"Open In Colab\"/></a>"
      ]
    },
    {
      "cell_type": "markdown",
      "source": [
        "# Importing important library\n",
        "import os # for handling os file\n",
        "import mne # for managing eeg data\n",
        "import numpy as np\n",
        "import pandas as pd\n",
        "import matplotlib.pyplot as plt\n",
        "import glob"
      ],
      "metadata": {
        "id": "MgDjwlcWbIAI"
      }
    },
    {
      "cell_type": "code",
      "source": [
        "pip install mne"
      ],
      "metadata": {
        "colab": {
          "base_uri": "https://localhost:8080/"
        },
        "id": "JzupyMgalESO",
        "outputId": "8476a23f-17a1-48c9-db13-80ad39a37d33"
      },
      "execution_count": 4,
      "outputs": [
        {
          "output_type": "stream",
          "name": "stdout",
          "text": [
            "Collecting mne\n",
            "  Downloading mne-1.6.1-py3-none-any.whl (8.3 MB)\n",
            "\u001b[2K     \u001b[90m━━━━━━━━━━━━━━━━━━━━━━━━━━━━━━━━━━━━━━━━\u001b[0m \u001b[32m8.3/8.3 MB\u001b[0m \u001b[31m14.5 MB/s\u001b[0m eta \u001b[36m0:00:00\u001b[0m\n",
            "\u001b[?25hRequirement already satisfied: numpy>=1.21.2 in /usr/local/lib/python3.10/dist-packages (from mne) (1.25.2)\n",
            "Requirement already satisfied: scipy>=1.7.1 in /usr/local/lib/python3.10/dist-packages (from mne) (1.11.4)\n",
            "Requirement already satisfied: matplotlib>=3.5.0 in /usr/local/lib/python3.10/dist-packages (from mne) (3.7.1)\n",
            "Requirement already satisfied: tqdm in /usr/local/lib/python3.10/dist-packages (from mne) (4.66.2)\n",
            "Requirement already satisfied: pooch>=1.5 in /usr/local/lib/python3.10/dist-packages (from mne) (1.8.1)\n",
            "Requirement already satisfied: decorator in /usr/local/lib/python3.10/dist-packages (from mne) (4.4.2)\n",
            "Requirement already satisfied: packaging in /usr/local/lib/python3.10/dist-packages (from mne) (24.0)\n",
            "Requirement already satisfied: jinja2 in /usr/local/lib/python3.10/dist-packages (from mne) (3.1.3)\n",
            "Requirement already satisfied: lazy-loader>=0.3 in /usr/local/lib/python3.10/dist-packages (from mne) (0.3)\n",
            "Requirement already satisfied: contourpy>=1.0.1 in /usr/local/lib/python3.10/dist-packages (from matplotlib>=3.5.0->mne) (1.2.0)\n",
            "Requirement already satisfied: cycler>=0.10 in /usr/local/lib/python3.10/dist-packages (from matplotlib>=3.5.0->mne) (0.12.1)\n",
            "Requirement already satisfied: fonttools>=4.22.0 in /usr/local/lib/python3.10/dist-packages (from matplotlib>=3.5.0->mne) (4.49.0)\n",
            "Requirement already satisfied: kiwisolver>=1.0.1 in /usr/local/lib/python3.10/dist-packages (from matplotlib>=3.5.0->mne) (1.4.5)\n",
            "Requirement already satisfied: pillow>=6.2.0 in /usr/local/lib/python3.10/dist-packages (from matplotlib>=3.5.0->mne) (9.4.0)\n",
            "Requirement already satisfied: pyparsing>=2.3.1 in /usr/local/lib/python3.10/dist-packages (from matplotlib>=3.5.0->mne) (3.1.2)\n",
            "Requirement already satisfied: python-dateutil>=2.7 in /usr/local/lib/python3.10/dist-packages (from matplotlib>=3.5.0->mne) (2.8.2)\n",
            "Requirement already satisfied: platformdirs>=2.5.0 in /usr/local/lib/python3.10/dist-packages (from pooch>=1.5->mne) (4.2.0)\n",
            "Requirement already satisfied: requests>=2.19.0 in /usr/local/lib/python3.10/dist-packages (from pooch>=1.5->mne) (2.31.0)\n",
            "Requirement already satisfied: MarkupSafe>=2.0 in /usr/local/lib/python3.10/dist-packages (from jinja2->mne) (2.1.5)\n",
            "Requirement already satisfied: six>=1.5 in /usr/local/lib/python3.10/dist-packages (from python-dateutil>=2.7->matplotlib>=3.5.0->mne) (1.16.0)\n",
            "Requirement already satisfied: charset-normalizer<4,>=2 in /usr/local/lib/python3.10/dist-packages (from requests>=2.19.0->pooch>=1.5->mne) (3.3.2)\n",
            "Requirement already satisfied: idna<4,>=2.5 in /usr/local/lib/python3.10/dist-packages (from requests>=2.19.0->pooch>=1.5->mne) (3.6)\n",
            "Requirement already satisfied: urllib3<3,>=1.21.1 in /usr/local/lib/python3.10/dist-packages (from requests>=2.19.0->pooch>=1.5->mne) (2.0.7)\n",
            "Requirement already satisfied: certifi>=2017.4.17 in /usr/local/lib/python3.10/dist-packages (from requests>=2.19.0->pooch>=1.5->mne) (2024.2.2)\n",
            "Installing collected packages: mne\n",
            "Successfully installed mne-1.6.1\n"
          ]
        }
      ]
    },
    {
      "cell_type": "code",
      "source": [
        "from glob import glob\n",
        "import mne\n",
        "import pandas as pd\n",
        "import numpy as np\n",
        "import matplotlib.pyplot as plt\n",
        "import os"
      ],
      "metadata": {
        "id": "1frT8jzqlVmo"
      },
      "execution_count": 6,
      "outputs": []
    },
    {
      "cell_type": "code",
      "source": [
        "# importing data via url link\n",
        "# url = 'https://github.com/Mahedi-Hasan-Anik/pytorch_learning/tree/main/dataverse'\n",
        "# print(url)\n",
        "# url2='/content/drive/MyDrive/Colab Notebooks/dataverse'\n",
        "all_file_path =glob('/content/drive/MyDrive/Colab Notebooks/dataverse/*.edf')\n",
        "print(len(all_file_path))\n"
      ],
      "metadata": {
        "id": "JwfNUNiLdjZG",
        "colab": {
          "base_uri": "https://localhost:8080/"
        },
        "outputId": "fe376519-e88d-4a2e-8eb2-13aa917f62e4"
      },
      "execution_count": 11,
      "outputs": [
        {
          "output_type": "stream",
          "name": "stdout",
          "text": [
            "28\n"
          ]
        }
      ]
    },
    {
      "cell_type": "code",
      "source": [
        "all_file_path[10]"
      ],
      "metadata": {
        "colab": {
          "base_uri": "https://localhost:8080/",
          "height": 35
        },
        "id": "6MWki6vvoXNM",
        "outputId": "bbd4071c-0aae-477b-ff2e-8dd9c88910c8"
      },
      "execution_count": 22,
      "outputs": [
        {
          "output_type": "execute_result",
          "data": {
            "text/plain": [
              "'/content/drive/MyDrive/Colab Notebooks/dataverse/h10.edf'"
            ],
            "application/vnd.google.colaboratory.intrinsic+json": {
              "type": "string"
            }
          },
          "metadata": {},
          "execution_count": 22
        }
      ]
    },
    {
      "cell_type": "markdown",
      "source": [],
      "metadata": {
        "id": "uGmqJ4iwmxHA"
      }
    },
    {
      "cell_type": "code",
      "source": [
        "healthy_file_path = [i for i in all_file_path if len(i.split('\\\\'))[1]]\n",
        "patient_file_path = [i for i in all_file_path if len(i.split('\\\\'))[1]]\n",
        "print(len(healthy_file_path),len(patient_file_path))\n",
        "\n",
        "# healthy_file_path = [i for i in all_file_path if len(i.split('\\\\')) > 1 and 'h' in i.split('\\\\')[1]]\n",
        "# patient_file_path = [i for i in all_file_path if len(i.split('\\\\')) > 1 and 's' in i.split('\\\\')[1]]\n",
        "# print(len(healthy_file_path), len(patient_file_path))\n"
      ],
      "metadata": {
        "id": "BtZuu6MegfPI"
      },
      "execution_count": null,
      "outputs": []
    },
    {
      "cell_type": "code",
      "source": [
        "def read_data(file_path):\n",
        "  data = mne.io.read_raw_edf(file_path,preload=True)\n",
        "  data.set_eeg_reference()\n",
        "  data.filter(l_freq=0.5,h_freq=45)\n",
        "  epochs = mne.make_fixed_length_epochs(data,duration=5,overlap=1)\n",
        "  array = epochs.get_data()\n",
        "  return array"
      ],
      "metadata": {
        "id": "lDAfhmb1i5EJ"
      },
      "execution_count": 25,
      "outputs": []
    },
    {
      "cell_type": "code",
      "source": [
        "sample_data = read_data(healthy_file_path[0]) #no of epochs, channels,Length of signal"
      ],
      "metadata": {
        "id": "c47yHfVvu1Gy"
      },
      "execution_count": null,
      "outputs": []
    },
    {
      "cell_type": "code",
      "source": [
        "%%capture\n",
        "control_epochs_array = [read.data(i) for i in healtht_file_path]\n",
        "patient_epochs_array = [read.data(i) for i in patient_file_path]\n"
      ],
      "metadata": {
        "id": "XziYrtLxwqCk"
      },
      "execution_count": null,
      "outputs": []
    },
    {
      "cell_type": "code",
      "source": [
        "control_epochs_array[0].shape"
      ],
      "metadata": {
        "id": "p-KsdnJyxF5u"
      },
      "execution_count": null,
      "outputs": []
    },
    {
      "cell_type": "code",
      "source": [
        "control_epochs_labels = [len(i)*[0] for i in control_epochs_array]\n",
        "patient_epoch_labels = [len(i)*[1] for i in patient_epochs_array]\n",
        "len(control_epochs_labels), leg(patient_epochs_labels)"
      ],
      "metadata": {
        "id": "WnpFJO5RxK94"
      },
      "execution_count": null,
      "outputs": []
    },
    {
      "cell_type": "code",
      "source": [
        "data_list = control_epochs_array + paitent_epochs_array\n",
        "label_list = control_epochs_labels + patents_epochs_labels"
      ],
      "metadata": {
        "id": "rmWmnSyzxxyl"
      },
      "execution_count": null,
      "outputs": []
    },
    {
      "cell_type": "code",
      "source": [
        "group_list = [[i]*len(j) for i,j in enumerate(data_list)]\n",
        "len(group_list)\n"
      ],
      "metadata": {
        "id": "uMcKm2Diyzfj"
      },
      "execution_count": null,
      "outputs": []
    },
    {
      "cell_type": "code",
      "source": [
        "data_array = np.vstack(data_list)\n",
        "label_array = np.hstack(label_list)\n",
        "group_array = np.hstack(group_list)\n",
        "print(data_array.shape,label_array.shape,group_array.shape)"
      ],
      "metadata": {
        "id": "CTYSkNsDzO81"
      },
      "execution_count": null,
      "outputs": []
    },
    {
      "cell_type": "code",
      "source": [
        "# Extraction features\n",
        "np.mean(data_array,axis=-1).shape"
      ],
      "metadata": {
        "id": "Pk2qaWBxz7Rv"
      },
      "execution_count": null,
      "outputs": []
    },
    {
      "cell_type": "code",
      "source": [
        "from scipy import stats\n",
        "def mean(x):\n",
        "  return np.mean(x,axis=-1)\n",
        "def std(x):\n",
        "  return np.std(data,axis=-1)\n",
        "def ptp(x):\n",
        "  return np.ptp(data,axis=-1)\n",
        "def var(x):\n",
        "  return np.var(x,axis=-1)\n",
        "def minim(x):\n",
        "  return np.min(x,axis=-1)\n",
        "def maxim:\n",
        "  retrun np.max(x,axis=-1)\n",
        "def argminim(x):\n",
        "  return np.argmin(x,axis=-1)\n",
        "def argmaxim(x):\n",
        "  return np.argmax(x,axis=-1)\n",
        "def rms(x):\n",
        "  return np.sqrt(np.mean(x**2,axis=-1))\n",
        "def skewness(x):\n",
        "  return stats.skew(x,axis=-1)\n",
        "def kurtosis(x):\n",
        "  return kurtosis(x,axis=-1)\n",
        "def concatenate_features(x):\n",
        "  return np.concatenate((mean(x),std(2),ptp(x),var(x),minim(x),maxim(x),argminim(x),argmaxim(x),rms(x),abs_diff_signal(x),skewness(x),kurtosis(x)),axis=-1)axis=-1"
      ],
      "metadata": {
        "id": "qcyrxyE90ObZ"
      },
      "execution_count": null,
      "outputs": []
    },
    {
      "cell_type": "code",
      "source": [
        "features = []\n",
        "for d in data_array:\n",
        "  features.append"
      ],
      "metadata": {
        "id": "YJlD00NA29r7"
      },
      "execution_count": null,
      "outputs": []
    },
    {
      "cell_type": "code",
      "source": [
        "features_array = np.array(features)\n",
        "features_array.shape"
      ],
      "metadata": {
        "id": "TlGgiDy33kBu"
      },
      "execution_count": null,
      "outputs": []
    },
    {
      "cell_type": "markdown",
      "source": [],
      "metadata": {
        "id": "ZLgIJCUj314p"
      }
    },
    {
      "cell_type": "code",
      "source": [
        "from sklearn.linear_model import LogisticRegression\n",
        "from sklearn.pipeline import Pipeline\n",
        "from sklearn.preprocessing import StandardScaler\n",
        "from sklearn.model_selection import GroupKFold,GridSearchCV"
      ],
      "metadata": {
        "id": "uFjatCeP3j3k"
      },
      "execution_count": 32,
      "outputs": []
    },
    {
      "cell_type": "code",
      "source": [
        "clf = LogisticRegression()\n",
        "gkf = GroupKFold(5)\n",
        "pipe=Pipeline([('scaler',StandardScaler()),('clf',clf)])\n",
        "param_grid ={ 'clf__C':[0.1,0.5,0.7,1,3,5,7]}\n",
        "gscv=GridSearchCV(pipe,param_grid,cv=gkf,n_jobs=12)\n",
        "gscv.fit(features_array,label_array,group=group_array)"
      ],
      "metadata": {
        "id": "SYviLmnY4aHT"
      },
      "execution_count": null,
      "outputs": []
    },
    {
      "cell_type": "code",
      "source": [
        "gscv.best_score_"
      ],
      "metadata": {
        "id": "6Um7fETB6HcC"
      },
      "execution_count": null,
      "outputs": []
    }
  ]
}